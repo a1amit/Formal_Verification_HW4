{
 "cells": [
  {
   "cell_type": "markdown",
   "metadata": {
    "id": "Y7m1EiJdz3Wk"
   },
   "source": [
    "# Homework 5: Invariants, Persistence, and Safety/Liveness via Automata\n",
    "\n",
    "In this assignment, you will extend your `TransitionSystem` class with methods for verifying system properties using finite automata. You will build a product system with an automaton, and implement checks for invariant, persistence, safety, and liveness properties.\n",
    "\n",
    "---"
   ]
  },
  {
   "cell_type": "code",
   "execution_count": 42,
   "metadata": {
    "ExecuteTime": {
     "end_time": "2025-06-11T13:08:36.251651Z",
     "start_time": "2025-06-11T13:08:35.523885Z"
    }
   },
   "outputs": [],
   "source": [
    "import sys\n",
    "\n",
    "try:\n",
    "    import otter\n",
    "except ImportError:\n",
    "    %pip install otter-grader\n",
    "    import otter\n",
    "\n",
    "grader = otter.Notebook(\"HW5.ipynb\")"
   ]
  },
  {
   "cell_type": "markdown",
   "metadata": {},
   "source": [
    "## Provided Code\n"
   ]
  },
  {
   "cell_type": "markdown",
   "metadata": {},
   "source": [
    "You are given the class `FiniteAutomaton`, which represents a nondeterministic finite automaton (NFA). This class includes methods for defining states, transitions, and acceptance conditions. It is useful for expressing safety and liveness properties:\n",
    "\n",
    "```python\n",
    "class FiniteAutomaton:\n",
    "    Q: Set[State]              # States\n",
    "    Sigma: Set[Symbol]        # Alphabet (input symbols)\n",
    "    Transitions: Set[Transition]  # (state_from, symbol, state_to)\n",
    "    Q0: Set[State]            # Initial states\n",
    "    F: Set[State]             # Accepting states\n",
    "```\n",
    "\n",
    "You are also provided with a utility function `upholds(s, phi)` that checks whether a label set `s` satisfies a propositional formula `phi`.\n",
    "### Example\n",
    "```python\n",
    "upholds({'a', 'b'}, 'not(a) or b')  # Returns True\n",
    "upholds({'p'}, 'p and not q')      # Returns True\n",
    "upholds({'q'}, 'p and not q')      # Returns False\n",
    "```\n",
    "\n",
    "\n",
    "Use these utilities to implement the property verification methods in the tasks below.\n",
    "\n",
    "---"
   ]
  },
  {
   "cell_type": "code",
   "execution_count": 43,
   "metadata": {
    "ExecuteTime": {
     "end_time": "2025-06-11T13:08:36.260172Z",
     "start_time": "2025-06-11T13:08:36.257511Z"
    }
   },
   "outputs": [],
   "source": [
    "import re\n",
    "\n",
    "def literals(phi):\n",
    "    \"\"\"\n",
    "    Extracts literals from a logical expression.\n",
    "    :param phi: logical expression in propositional logic.\n",
    "    :return: set of literals in phi.\n",
    "    \"\"\"\n",
    "    symbols = {'and', 'or', 'not', 'next', 'until', 'eventually', 'always', '(', ')', ' '}\n",
    "    return set(re.findall(r\"[\\w']+\", phi)) - symbols\n",
    "\n",
    "def upholds(s, phi):\n",
    "    \"\"\"\n",
    "    :param s: set of literals.\n",
    "    :param phi: logical expression.\n",
    "    :return: s |= phi\n",
    "\n",
    "    for instance:\n",
    "    upholds({'a'}, 'not(a or b) and not c') -> False\n",
    "    upholds({'d'}, 'not(a or b) and not c') -> True\n",
    "    upholds({'a', 'b', 'c'}, 'not(a or b) and not c') -> False\n",
    "    \"\"\"\n",
    "    eta = {x: x in s | {'true'} for x in literals(phi)}\n",
    "    return eval(phi, None, eta)"
   ]
  },
  {
   "cell_type": "code",
   "execution_count": 44,
   "metadata": {
    "ExecuteTime": {
     "end_time": "2025-06-11T13:08:36.342105Z",
     "start_time": "2025-06-11T13:08:36.336185Z"
    }
   },
   "outputs": [],
   "source": [
    "from typing import Set, Tuple, Optional\n",
    "\n",
    "State = str\n",
    "Symbol = str\n",
    "Transition = Tuple[State, Symbol, State]\n",
    "\n",
    "\n",
    "class FiniteAutomaton:\n",
    "    \"\"\"\n",
    "    A finite automaton (NFA-style) representation.\n",
    "\n",
    "    Attributes:\n",
    "        Q (Set[State]): The set of all states.\n",
    "        Sigma (Set[Symbol]): The input alphabet (symbols).\n",
    "        Transitions (Set[Transition]): Transitions labeled with symbols.\n",
    "        Q0 (Set[State]): The set of initial states.\n",
    "        F (Set[State]): The set of accepting (final) states.\n",
    "    \"\"\"\n",
    "\n",
    "    def __init__(\n",
    "        self,\n",
    "        states: Optional[Set[State]] = None,\n",
    "        alphabet: Optional[Set[Symbol]] = None,\n",
    "        transitions: Optional[Set[Transition]] = None,\n",
    "        initial_states: Optional[Set[State]] = None,\n",
    "        accepting_states: Optional[Set[State]] = None,\n",
    "    ) -> None:\n",
    "        \"\"\"\n",
    "        Initializes the finite automaton.\n",
    "\n",
    "        :param states: A set of states. Defaults to an empty set.\n",
    "        :param alphabet: A set of input symbols. Defaults to an empty set.\n",
    "        :param transitions: A set of transitions, each as (state_from, symbol, state_to).\n",
    "        :param initial_states: A set of initial states. Defaults to an empty set.\n",
    "        :param accepting_states: A set of accepting states. Defaults to an empty set.\n",
    "        \"\"\"\n",
    "        self.Q: Set[State] = set(states) if states is not None else set()\n",
    "        self.Sigma: Set[Symbol] = set(alphabet) if alphabet is not None else set()\n",
    "        self.Transitions: Set[Transition] = set(transitions) if transitions is not None else set()\n",
    "        self.Q0: Set[State] = set(initial_states) if initial_states is not None else set()\n",
    "        self.F: Set[State] = set(accepting_states) if accepting_states is not None else set()\n",
    "\n",
    "    def add_state(self, *states: State) -> \"FiniteAutomaton\":\n",
    "        self.Q.update(states)\n",
    "        return self\n",
    "\n",
    "    def add_symbol(self, *symbols: Symbol) -> \"FiniteAutomaton\":\n",
    "        self.Sigma.update(symbols)\n",
    "        return self\n",
    "\n",
    "    def add_transition(self, *transitions: Transition) -> \"FiniteAutomaton\":\n",
    "        for transition in transitions:\n",
    "            if not isinstance(transition, tuple) or len(transition) != 3:\n",
    "                raise ValueError(f\"Invalid transition format: {transition}. Expected (state_from, symbol, state_to).\")\n",
    "            state_from, symbol, state_to = transition\n",
    "            if state_from not in self.Q or state_to not in self.Q:\n",
    "                raise ValueError(\"Transition states must be in the state set.\")\n",
    "            if symbol not in self.Sigma:\n",
    "                raise ValueError(\"Transition symbol must be in the alphabet.\")\n",
    "            self.Transitions.add(transition)\n",
    "        return self\n",
    "\n",
    "    def add_initial_state(self, *states: State) -> \"FiniteAutomaton\":\n",
    "        for state in states:\n",
    "            if state not in self.Q:\n",
    "                raise ValueError(\"Initial state must be in the state set.\")\n",
    "            self.Q0.add(state)\n",
    "        return self\n",
    "\n",
    "    def add_accepting_state(self, *states: State) -> \"FiniteAutomaton\":\n",
    "        for state in states:\n",
    "            if state not in self.Q:\n",
    "                raise ValueError(\"Accepting state must be in the state set.\")\n",
    "            self.F.add(state)\n",
    "        return self\n",
    "\n",
    "    def __repr__(self) -> str:\n",
    "        return (\n",
    "            f\"Automaton(\\n\"\n",
    "            f\"  States: {self.Q}\\n\"\n",
    "            f\"  Alphabet: {self.Sigma}\\n\"\n",
    "            f\"  Transitions: {self.Transitions}\\n\"\n",
    "            f\"  Initial States: {self.Q0}\\n\"\n",
    "            f\"  Accepting States: {self.F}\\n\"\n",
    "            f\")\"\n",
    "        )"
   ]
  },
  {
   "cell_type": "markdown",
   "metadata": {
    "deletable": false,
    "editable": false,
    "id": "TI1jvGE6vzP4"
   },
   "source": [
    "## Part 1: Product with Finite Automaton"
   ]
  },
  {
   "cell_type": "markdown",
   "metadata": {
    "deletable": false,
    "editable": false
   },
   "source": [
    "You will first implement:\n",
    "\n",
    "```python\n",
    "def product(self, a: \"FiniteAutomaton\") -> \"TransitionSystem\":\n",
    "    pass\n",
    "```"
   ]
  },
  {
   "cell_type": "markdown",
   "metadata": {
    "deletable": false,
    "editable": false
   },
   "source": [
    "### Explanation\n",
    "\n",
    "This method constructs a synchronous product between a transition system (TS) and a finite automaton (FA). The result is a new TS whose states are pairs `(s, q)` combining a TS state `s` and an FA state `q`. The product progresses by matching TS transitions with compatible automaton transitions.\n",
    "\n",
    "A transition `((s, q), act, (t, p))` exists in the product iff:\n",
    "\n",
    "- `(s, act, t)` is a TS transition\n",
    "- `(q, phi, p)` is an FA transition\n",
    "- `phi` holds in `t`'s label"
   ]
  },
  {
   "cell_type": "markdown",
   "metadata": {
    "deletable": false,
    "editable": false
   },
   "source": [
    "### Example\n",
    "\n",
    "Suppose:\n",
    "\n",
    "- TS has transition `s0 --a--> s1` where `L(s1) = {p}`\n",
    "- FA has transition `q0 --'p'--> q1`\n",
    "\n",
    "Then the product will include `((s0, q0), a, (s1, q1))`.\n",
    "\n",
    "---"
   ]
  },
  {
   "cell_type": "markdown",
   "metadata": {
    "deletable": false,
    "editable": false
   },
   "source": [
    "## Part 2: Invariant and Persistence Checking"
   ]
  },
  {
   "cell_type": "markdown",
   "metadata": {
    "deletable": false,
    "editable": false
   },
   "source": [
    "You will implement:\n",
    "\n",
    "```python\n",
    "def verify_invariant(self, k: str) -> bool:\n",
    "    pass\n",
    "```"
   ]
  },
  {
   "cell_type": "markdown",
   "metadata": {
    "deletable": false,
    "editable": false
   },
   "source": [
    "### Explanation\n",
    "\n",
    "This method returns `True` if **all reachable states** of the TS satisfy the formula `k`, and `False` otherwise."
   ]
  },
  {
   "cell_type": "markdown",
   "metadata": {
    "deletable": false,
    "editable": false
   },
   "source": [
    "### Example\n",
    "\n",
    "If `k = 'p'`, and every reachable state from the initial state has `'p'` in its label, then the invariant holds.\n",
    "\n",
    "---"
   ]
  },
  {
   "cell_type": "markdown",
   "metadata": {
    "deletable": false,
    "editable": false
   },
   "source": [
    "```python\n",
    "def verify_persistence(self, k: str) -> bool:\n",
    "    pass\n",
    "```"
   ]
  },
  {
   "cell_type": "markdown",
   "metadata": {
    "deletable": false,
    "editable": false
   },
   "source": [
    "### Explanation\n",
    "\n",
    "This method checks whether `k` eventually holds in all **future reachable states** from a point."
   ]
  },
  {
   "cell_type": "markdown",
   "metadata": {
    "deletable": false,
    "editable": false
   },
   "source": [
    "### Example\n",
    "\n",
    "If `k = 'p'`, and there exists a state where `'p'` holds, but `'p'` is violated in some successor state, the persistence property does not hold.\n",
    "\n",
    "---"
   ]
  },
  {
   "cell_type": "markdown",
   "metadata": {
    "deletable": false,
    "editable": false
   },
   "source": [
    "## Part 3: Safety and Liveness Verification"
   ]
  },
  {
   "cell_type": "markdown",
   "metadata": {
    "deletable": false,
    "editable": false
   },
   "source": [
    "You will implement:\n",
    "\n",
    "```python\n",
    "def verify_safety(self, a: \"FiniteAutomaton\") -> bool:\n",
    "    pass\n",
    "```"
   ]
  },
  {
   "cell_type": "markdown",
   "metadata": {
    "deletable": false,
    "editable": false
   },
   "source": [
    "### Explanation\n",
    "\n",
    "This method checks if **any bad prefix** is accepted by the automaton `a`. The language of `a` is assumed to be the set of **bad prefixes** of a safety property."
   ]
  },
  {
   "cell_type": "markdown",
   "metadata": {
    "deletable": false,
    "editable": false
   },
   "source": [
    "### Example\n",
    "\n",
    "If `a` accepts a trace prefix that occurs in the TS, then the safety property is violated and the method returns `False`.\n",
    "\n",
    "---"
   ]
  },
  {
   "cell_type": "markdown",
   "metadata": {
    "deletable": false,
    "editable": false
   },
   "source": [
    "```python\n",
    "def verify_liveness(self, a: \"FiniteAutomaton\") -> bool:\n",
    "    pass\n",
    "```"
   ]
  },
  {
   "cell_type": "markdown",
   "metadata": {
    "deletable": false,
    "editable": false
   },
   "source": [
    "### Explanation\n",
    "\n",
    "This method verifies that **no infinite execution** of the TS satisfies the language of the automaton `a`, which accepts all behaviors that **violate** a liveness property.\n"
   ]
  },
  {
   "cell_type": "markdown",
   "metadata": {
    "deletable": false,
    "editable": false
   },
   "source": [
    "### Example\n",
    "\n",
    "Suppose `a` accepts all infinite sequences where `'p'` never holds. If the TS has an execution where `'p'` is never satisfied, liveness fails and the method returns `False`.\n"
   ]
  },
  {
   "cell_type": "code",
   "execution_count": 45,
   "metadata": {
    "ExecuteTime": {
     "end_time": "2025-06-11T13:08:36.728602Z",
     "start_time": "2025-06-11T13:08:36.350703Z"
    },
    "id": "Yr4ZoKdZtQzk",
    "tags": [
     "otter_answer_cell"
    ]
   },
   "outputs": [],
   "source": [
    "from typing import Set, Dict, Tuple, Union, Optional\n",
    "try:\n",
    "    import networkx as nx\n",
    "    import matplotlib.pyplot as plt\n",
    "except ImportError:\n",
    "    %pip install networkx matplotlib\n",
    "    import networkx as nx\n",
    "    import matplotlib.pyplot as plt\n",
    "\n",
    "State = Union[str, Tuple]  # A state can be a string or a tuple (location, environment)\n",
    "Action = str  # Actions are represented as strings\n",
    "Transition = Tuple[State, Action, State]  # (source_state, action, target_state)\n",
    "LabelingMap = Dict[State, Set[str]]  # Maps states to atomic propositions\n",
    "\n",
    "\n",
    "class TransitionSystem:\n",
    "    \"\"\"\n",
    "    A Transition System (TS) representation.\n",
    "\n",
    "    Attributes:\n",
    "        S (Set[State]): The set of all states (strings or tuples).\n",
    "        Act (Set[Action]): The set of all possible actions.\n",
    "        Transitions (Set[Transition]): The set of transitions, each represented as (state_origin, action, state_target).\n",
    "        I (Set[State]): The set of initial states.\n",
    "        AP (Set[str]): The set of atomic propositions.\n",
    "        _L (LabelingMap): A dictionary mapping states to their respective atomic propositions.\n",
    "    \"\"\"\n",
    "\n",
    "    def __init__(\n",
    "        self,\n",
    "        states: Optional[Set[State]] = None,\n",
    "        actions: Optional[Set[Action]] = None,\n",
    "        transitions: Optional[Set[Transition]] = None,\n",
    "        initial_states: Optional[Set[State]] = None,\n",
    "        atomic_props: Optional[Set[str]] = None,\n",
    "        labeling_map: Optional[LabelingMap] = None,\n",
    "    ) -> None:\n",
    "        \"\"\"\n",
    "        Initializes the Transition System.\n",
    "\n",
    "        :param states: A set of states (each a string or a tuple). Defaults to an empty set.\n",
    "        :param actions: A set of actions. Defaults to an empty set.\n",
    "        :param transitions: A set of transitions, each as (state_origin, action, state_target). Defaults to an empty set.\n",
    "        :param initial_states: A set of initial states. Defaults to an empty set.\n",
    "        :param atomic_props: A set of atomic propositions. Defaults to an empty set.\n",
    "        :param labeling_map: A dictionary mapping states to sets of atomic propositions. Defaults to an empty dictionary.\n",
    "        \"\"\"\n",
    "        self.S: Set[State] = set(states) if states is not None else set()\n",
    "        self.Act: Set[Action] = set(actions) if actions is not None else set()\n",
    "        self.Transitions: Set[Transition] = set(transitions) if transitions is not None else set()\n",
    "        self.I: Set[State] = set(initial_states) if initial_states is not None else set()\n",
    "        self.AP: Set[str] = set(atomic_props) if atomic_props is not None else set()\n",
    "        self._L: LabelingMap = dict(labeling_map) if labeling_map is not None else {}\n",
    "\n",
    "    def add_state(self, *states: State) -> \"TransitionSystem\":\n",
    "        \"\"\"\n",
    "        Adds one or more states to the transition system.\n",
    "\n",
    "        :param states: One or more states (strings or tuples) to be added.\n",
    "        :return: The TransitionSystem instance (for method chaining).\n",
    "        \"\"\"\n",
    "        self.S.update(states)\n",
    "        return self\n",
    "\n",
    "    def add_action(self, *actions: Action) -> \"TransitionSystem\":\n",
    "        \"\"\"\n",
    "        Adds one or more actions to the transition system.\n",
    "\n",
    "        :param actions: One or more actions (strings) to be added.\n",
    "        :return: The TransitionSystem instance (for method chaining).\n",
    "        \"\"\"\n",
    "        self.Act.update(actions)\n",
    "        return self\n",
    "\n",
    "    def add_transition(self, *transitions: Transition) -> \"TransitionSystem\":\n",
    "        \"\"\"\n",
    "        Adds one or more transitions to the transition system.\n",
    "        Ensures that all involved states and actions exist before adding the transitions.\n",
    "\n",
    "        Each transition must be provided as a tuple of the form `(state_from, action, state_to)`, where:\n",
    "        - `state_from` is the source state.\n",
    "        - `action` is the action performed.\n",
    "        - `state_to` is the resulting state.\n",
    "\n",
    "        :param transitions: One or more transitions, each as a tuple `(state_from, action, state_to)`.\n",
    "        :raises ValueError:\n",
    "            - If a transition is not a tuple of length 3.\n",
    "            - If `state_from` or `state_to` does not exist in `self.S`.\n",
    "            - If `action` is not in `self.Act`.\n",
    "        :return: The `TransitionSystem` instance (for method chaining).\n",
    "        \"\"\"\n",
    "        for transition in transitions:\n",
    "            if not isinstance(transition, tuple) or len(transition) != 3:\n",
    "                raise ValueError(f\"Invalid transition format: {transition}. Expected (state_from, action, state_to).\")\n",
    "\n",
    "            state_from, action, state_to = transition\n",
    "\n",
    "            if state_from not in self.S:\n",
    "                raise ValueError(f\"State {state_from} is not in the transition system.\")\n",
    "            if state_to not in self.S:\n",
    "                raise ValueError(f\"State {state_to} is not in the transition system.\")\n",
    "            if action not in self.Act:\n",
    "                raise ValueError(f\"Action {action} is not in the transition system.\")\n",
    "\n",
    "            self.Transitions.add(transition)\n",
    "        return self\n",
    "\n",
    "    def add_initial_state(self, *states: State) -> \"TransitionSystem\":\n",
    "        \"\"\"\n",
    "        Adds one or more states to the set of initial states.\n",
    "\n",
    "        :param states: One or more states to be marked as initial.\n",
    "        :raises ValueError: If any state does not exist in the system.\n",
    "        :return: The TransitionSystem instance (for method chaining).\n",
    "        \"\"\"\n",
    "        for state in states:\n",
    "            if state not in self.S:\n",
    "                raise ValueError(f\"Initial state {state} must be in the transition system.\")\n",
    "            self.I.add(state)\n",
    "        return self\n",
    "\n",
    "    def add_atomic_proposition(self, *props: str) -> \"TransitionSystem\":\n",
    "        \"\"\"\n",
    "        Adds one or more atomic propositions to the transition system.\n",
    "\n",
    "        :param props: One or more atomic propositions (strings) to be added.\n",
    "        :return: The TransitionSystem instance (for method chaining).\n",
    "        \"\"\"\n",
    "        self.AP.update(props)\n",
    "        return self\n",
    "\n",
    "    def add_label(self, state: State, *labels: str) -> \"TransitionSystem\":\n",
    "        \"\"\"\n",
    "        Adds one or more atomic propositions to a given state.\n",
    "\n",
    "        :param state: The state to label.\n",
    "        :param labels: One or more atomic propositions to be assigned to the state.\n",
    "        :raises ValueError: If the state is not in the system or if any label is not a valid atomic proposition.\n",
    "        :return: The TransitionSystem instance (for method chaining).\n",
    "        \"\"\"\n",
    "        if state not in self.S:\n",
    "            raise ValueError(f\"Cannot set labels for {state}. State is not in the transition system.\")\n",
    "\n",
    "        invalid_labels = {label for label in labels if label not in self.AP}\n",
    "        if invalid_labels:\n",
    "            raise ValueError(f\"Cannot assign labels {invalid_labels}. They are not in the set of atomic propositions (AP).\")\n",
    "\n",
    "        self._L.setdefault(state, set()).update(labels)\n",
    "        return self\n",
    "\n",
    "    def L(self, state: State) -> Set[str]:\n",
    "        \"\"\"\n",
    "        Retrieves the set of atomic propositions that hold in a given state.\n",
    "\n",
    "        :param state: The state whose atomic propositions are being retrieved.\n",
    "        :raises ValueError: If the state is not in the transition system.\n",
    "        :return: A set of atomic propositions associated with the given state.\n",
    "        \"\"\"\n",
    "        if state not in self.S:\n",
    "            raise ValueError(f\"State {state} is not in the transition system.\")\n",
    "        return self._L.get(state, set())\n",
    "\n",
    "    def pre(self, S: Union[State, Set[State]], action: Optional[Action] = None) -> Set[State]:\n",
    "        \"\"\"\n",
    "        Computes the set of predecessor states from which a given state or set of states can be reached.\n",
    "\n",
    "        :param S: A single state (string/tuple) or a collection of states.\n",
    "        :param action: (Optional) If provided, filters only the transitions that use this action.\n",
    "        :return: A set of predecessor states.\n",
    "        \"\"\"\n",
    "        if isinstance(S, (str, tuple)):\n",
    "            S = {S}\n",
    "        return {s_org for (s_org, act, s_target) in self.Transitions if s_target in S and (action is None or act == action)}\n",
    "\n",
    "    def post(self, S: Union[State, Set[State]], action: Optional[Action] = None) -> Set[State]:\n",
    "        \"\"\"\n",
    "        Computes the set of successor states reachable from a given state or a collection of states.\n",
    "\n",
    "        :param S: A single state or a collection of states.\n",
    "        :param action: (Optional) Filters transitions by this action.\n",
    "        :return: A set of successor states.\n",
    "        \"\"\"\n",
    "        if isinstance(S, (str, tuple)):\n",
    "            S = {S}\n",
    "        return {s_target for (s_org, act, s_target) in self.Transitions if s_org in S and (action is None or act == action)}\n",
    "\n",
    "    def reach(self) -> Set[State]:\n",
    "        \"\"\"\n",
    "        Computes the set of all reachable states from the initial states.\n",
    "\n",
    "        :return: A set of reachable states.\n",
    "        \"\"\"\n",
    "        S: Set[State] = set()\n",
    "        nS: Set[State] = self.I\n",
    "        while S != nS:\n",
    "            S = nS\n",
    "            nS = S | {s for s in self.post(S)}\n",
    "        return S\n",
    "\n",
    "    def product(self, a: \"FiniteAutomaton\") -> \"TransitionSystem\":\n",
    "            \"\"\"\n",
    "            Constructs the synchronous product of the transition system with a finite automaton.\n",
    "            \"\"\"\n",
    "            prod_ts = TransitionSystem()\n",
    "            prod_states = {(s, q) for s in self.S for q in a.Q}\n",
    "            prod_ts.S = prod_states\n",
    "            prod_ts.Act = self.Act\n",
    "            prod_ts.AP = set(a.Q)\n",
    "            prod_ts._L = {(s, q): {q} for s, q in prod_states}\n",
    "\n",
    "            prod_initial_states = set()\n",
    "            for s0 in self.I:\n",
    "                labels_s0 = self.L(s0)\n",
    "                for q0 in a.Q0:\n",
    "                    for q_from, phi, q_to in a.Transitions:\n",
    "                        if q_from == q0 and upholds(labels_s0, phi):\n",
    "                            if (s0, q_to) in prod_states:\n",
    "                                prod_initial_states.add((s0, q_to))\n",
    "            prod_ts.I = prod_initial_states\n",
    "\n",
    "            prod_transitions = set()\n",
    "            for s, act, t in self.Transitions:\n",
    "                labels_t = self.L(t)\n",
    "                for q_from, phi, p in a.Transitions:\n",
    "                    if upholds(labels_t, phi):\n",
    "                        source_prod_state = (s, q_from)\n",
    "                        target_prod_state = (t, p)\n",
    "                        if source_prod_state in prod_states and target_prod_state in prod_states:\n",
    "                            prod_transitions.add((source_prod_state, act, target_prod_state))\n",
    "            prod_ts.Transitions = prod_transitions\n",
    "\n",
    "            return prod_ts\n",
    "\n",
    "\n",
    "\n",
    "    def verify_invariant(self, k: str) -> bool:\n",
    "        \"\"\"\n",
    "        Verifies if an invariant formula `k` holds in all reachable states.\n",
    "        \"\"\"\n",
    "        return all(upholds(self.L(s), k) for s in self.reach())\n",
    "\n",
    "\n",
    "    def verify_persistence(self, k: str) -> bool:\n",
    "        \"\"\"\n",
    "        Verifies if the persistence property for formula `k` holds (FG k).\n",
    "        This is corrected to only fail if a non-trivial (cyclic) reachable\n",
    "        component avoids the terminally good states.\n",
    "        \"\"\"\n",
    "        # 1. Find all states where the property k holds.\n",
    "        s_k = {s for s in self.S if upholds(self.L(s), k)}\n",
    "        if not s_k: return not self.reach()\n",
    "\n",
    "        # 2. Find the largest set C where k is invariant.\n",
    "        C = s_k.copy()\n",
    "        while True:\n",
    "            to_remove = {s for s in C if not self.post(s).issubset(C)}\n",
    "            if not to_remove:\n",
    "                break\n",
    "            C.difference_update(to_remove)\n",
    "\n",
    "        # 3. Build a graph of the system to find cycles (SCCs).\n",
    "        G = nx.DiGraph()\n",
    "        G.add_nodes_from(self.S)\n",
    "        G.add_edges_from([(u, v) for u, _, v in self.Transitions])\n",
    "\n",
    "        sccs = nx.strongly_connected_components(G)\n",
    "        reachable = self.reach()\n",
    "\n",
    "        # 4. A violation occurs if there is a reachable, non-trivial cycle that avoids C.\n",
    "        for scc in sccs:\n",
    "            if scc.isdisjoint(reachable) or not scc.isdisjoint(C):\n",
    "                continue\n",
    "\n",
    "            # Check if the SCC is a real cycle (non-trivial).\n",
    "            is_non_trivial = len(scc) > 1 or (len(scc) == 1 and G.has_edge(list(scc)[0], list(scc)[0]))\n",
    "\n",
    "            if is_non_trivial:\n",
    "                return False  # Found a violating cycle.\n",
    "\n",
    "        return True\n",
    "\n",
    "    def verify_safety(self, a: \"FiniteAutomaton\") -> bool:\n",
    "        \"\"\"\n",
    "        Verifies a safety property represented by a finite automaton `a`.\n",
    "        \"\"\"\n",
    "        prod_ts = self.product(a)\n",
    "        reachable_prod = prod_ts.reach()\n",
    "        \n",
    "        for _s, q in reachable_prod:\n",
    "            if q in a.F:\n",
    "                return False\n",
    "        return True\n",
    "\n",
    "    def verify_liveness(self, a: \"FiniteAutomaton\") -> bool:\n",
    "        \"\"\"\n",
    "        Verifies a liveness property represented by a finite automaton `a`.\n",
    "        \"\"\"\n",
    "        prod_ts = self.product(a)\n",
    "        reachable_prod = prod_ts.reach()\n",
    "        if not reachable_prod:\n",
    "            return True\n",
    "\n",
    "        reachable_transitions = [(u, v) for u, _, v in prod_ts.Transitions if u in reachable_prod]\n",
    "        G_reachable = nx.DiGraph(reachable_transitions)\n",
    "        G_reachable.add_nodes_from(reachable_prod)\n",
    "\n",
    "        sccs = nx.strongly_connected_components(G_reachable)\n",
    "        \n",
    "        for scc_nodes in sccs:\n",
    "            is_non_trivial = len(scc_nodes) > 1 or \\\n",
    "                             (len(scc_nodes) == 1 and G_reachable.has_edge(list(scc_nodes)[0], list(scc_nodes)[0]))\n",
    "            \n",
    "            if is_non_trivial:\n",
    "                has_accepting_state = any(q in a.F for _s, q in scc_nodes)\n",
    "                if has_accepting_state:\n",
    "                    return False\n",
    "                    \n",
    "        return True\n",
    "\n",
    "\n",
    "    def __repr__(self) -> str:\n",
    "        \"\"\"\n",
    "        Returns a string representation of the Transition System.\n",
    "\n",
    "        :return: A formatted string representation of the TS.\n",
    "        \"\"\"\n",
    "        return (\n",
    "            f\"TransitionSystem(\\n\"\n",
    "            f\"  States: {self.S}\\n\"\n",
    "            f\"  Actions: {self.Act}\\n\"\n",
    "            f\"  Transitions: {self.Transitions}\\n\"\n",
    "            f\"  Initial States: {self.I}\\n\"\n",
    "            f\"  Atomic Propositions: {self.AP}\\n\"\n",
    "            f\"  Labels: {self._L}\\n\"\n",
    "            f\")\"\n",
    "        )\n",
    "\n",
    "\n",
    "    def plot(self, title: str = \"Transition System\", figsize: Tuple[int, int] = (10, 6)) -> None:\n",
    "        \"\"\"\n",
    "        Plots the Transition System as a directed graph.\n",
    "\n",
    "        :param title: Title of the plot.\n",
    "        :param figsize: Figure size for the plot.\n",
    "        \"\"\"\n",
    "        G = nx.DiGraph()\n",
    "\n",
    "        # Add nodes (states)\n",
    "        for state in self.S:\n",
    "            label = f\"{state}\\n{' '.join(self.L(state))}\" if self.L(state) else str(state)\n",
    "            print(label)\n",
    "            G.add_node(state, label=label, color=\"blue\" if state in self.I else \"yellow\")\n",
    "\n",
    "        # Add edges (transitions)\n",
    "        for state_from, action, state_to in self.Transitions:\n",
    "            G.add_edge(state_from, state_to, label=action)\n",
    "\n",
    "        plt.figure(figsize=figsize)\n",
    "        pos = nx.spring_layout(G)  # Positioning algorithm for layout\n",
    "\n",
    "        # Draw nodes\n",
    "        node_colors = [G.nodes[n][\"color\"] for n in G.nodes]\n",
    "        nx.draw(G, pos, with_labels=True, labels=nx.get_node_attributes(G, \"label\"), node_color=node_colors, edgecolors=\"black\", node_size=2000, font_size=10)\n",
    "\n",
    "        # Draw edge labels (actions)\n",
    "        edge_labels = {(u, v): d[\"label\"] for u, v, d in G.edges(data=True)}\n",
    "        nx.draw_networkx_edge_labels(G, pos, edge_labels=edge_labels, font_size=9)\n",
    "\n",
    "        plt.title(title)\n",
    "        plt.show()\n",
    "\n",
    "    class NameGenerator:\n",
    "        def __init__(self, short_names=True):\n",
    "            self.count = 0\n",
    "            self.short_names = short_names\n",
    "            self.dict = {}\n",
    "\n",
    "        def name(self, state):\n",
    "            if self.short_names:\n",
    "                try:\n",
    "                    return self.dict[state]\n",
    "                except KeyError:\n",
    "                    self.count += 1\n",
    "                    self.dict[state] = \"S\" + str(self.count)\n",
    "                    return self.dict[state]\n",
    "            else:\n",
    "                return state\n",
    "\n",
    "    def to_dot(self, filename: str, short_names: bool = True) -> str:\n",
    "        \"\"\"\n",
    "        Exports the Transition System to a DOT file for visualization with Graphviz.\n",
    "\n",
    "        :param filename: The name of the output DOT file.\n",
    "        :return: The DOT string representation of the graph\n",
    "        \"\"\"\n",
    "        nameGen = self.NameGenerator(short_names)\n",
    "\n",
    "        dot_lines = ['digraph G {',\n",
    "                    '\\trankdir=RL;',\n",
    "                    '\\tnode [shape=rectangle, style=filled, fillcolor=\"lightyellow\"];']\n",
    "\n",
    "        # Add nodes (states)\n",
    "        for state in self.S:\n",
    "            label = f\"{{{','.join(self.L(state))}}}\" if self.L(state) else \"{{}}\"\n",
    "            dot_lines.append(f'\\t\"{state}\" [xlabel=\"{label}\" label=\"{nameGen.name(state)}\"];')\n",
    "            if state in self.I:\n",
    "                dot_lines.append(f'\\t\"init_{state}\" [shape=point, style=invis, ];')\n",
    "                dot_lines.append(f'\\t\"init_{state}\" -> \"{state}\" [minlen=0.1];')\n",
    "\n",
    "        # Add edges (transitions)\n",
    "        for state_from, action, state_to in self.Transitions:\n",
    "            dot_lines.append(f'\\t\"{state_from}\" -> \"{state_to}\" [label=\"{action}\"];')\n",
    "\n",
    "        dot_lines.append(\"}\")\n",
    "        dot_string = \"\\n\".join(dot_lines)\n",
    "\n",
    "        # Write to file if filename is provided\n",
    "        if filename:\n",
    "            with open(filename, \"w\") as f:\n",
    "                f.write(dot_string)\n",
    "\n",
    "        return dot_string"
   ]
  },
  {
   "cell_type": "code",
   "execution_count": 46,
   "metadata": {
    "deletable": false,
    "editable": false
   },
   "outputs": [
    {
     "data": {
      "text/html": [
       "<p><strong><pre style='display: inline;'>q1</pre></strong> passed! 💯</p>"
      ],
      "text/plain": [
       "q1 results: All test cases passed!"
      ]
     },
     "execution_count": 46,
     "metadata": {},
     "output_type": "execute_result"
    }
   ],
   "source": [
    "grader.check(\"q1\")"
   ]
  },
  {
   "cell_type": "markdown",
   "metadata": {},
   "source": [
    "### Test"
   ]
  },
  {
   "cell_type": "code",
   "execution_count": 47,
   "metadata": {},
   "outputs": [
    {
     "name": "stdout",
     "output_type": "stream",
     "text": [
      "Transition System Structure:\n",
      "TransitionSystem(\n",
      "  States: {'s0', 's1', 's2'}\n",
      "  Actions: {'a', 'b'}\n",
      "  Transitions: {('s0', 'a', 's1'), ('s2', 'b', 's2'), ('s1', 'a', 's0'), ('s1', 'b', 's2')}\n",
      "  Initial States: {'s0'}\n",
      "  Atomic Propositions: {'p', 'q'}\n",
      "  Labels: {'s0': {'p'}, 's1': {'q'}, 's2': {'p', 'q'}}\n",
      ")\n",
      "\n",
      "Generating Plot...\n",
      "s0\n",
      "p\n",
      "s1\n",
      "q\n",
      "s2\n",
      "p q\n"
     ]
    },
    {
     "data": {
      "image/png": "[encoded data removed]",
      "text/plain": [
       "<Figure size 1000x600 with 1 Axes>"
      ]
     },
     "metadata": {},
     "output_type": "display_data"
    }
   ],
   "source": [
    "# 1. Create an instance of a TransitionSystem\n",
    "ts_example = TransitionSystem(\n",
    "    states={'s0', 's1', 's2'},\n",
    "    actions={'a', 'b'},\n",
    "    atomic_props={'p', 'q'},\n",
    "    initial_states={'s0'}\n",
    ")\n",
    "\n",
    "# 2. Add labels to the states\n",
    "ts_example.add_label('s0', 'p')\n",
    "ts_example.add_label('s1', 'q')\n",
    "ts_example.add_label('s2', 'p', 'q')\n",
    "\n",
    "# 3. Add transitions between the states\n",
    "# Note: The add_transition method requires states and actions to be pre-defined.\n",
    "# We already did this when creating the ts_example instance.\n",
    "ts_example.add_transition(\n",
    "    ('s0', 'a', 's1'),\n",
    "    ('s1', 'a', 's0'),  # Creates a cycle between s0 and s1\n",
    "    ('s1', 'b', 's2'),\n",
    "    ('s2', 'b', 's2')   # Creates a self-loop on s2\n",
    ")\n",
    "\n",
    "# 4. Print the text representation to see the structure\n",
    "print(\"Transition System Structure:\")\n",
    "print(ts_example)\n",
    "\n",
    "# 5. Generate and display the plot\n",
    "print(\"\\nGenerating Plot...\")\n",
    "ts_example.plot(title=\"Example Transition System Visualization\")"
   ]
  },
  {
   "cell_type": "markdown",
   "metadata": {
    "deletable": false,
    "editable": false
   },
   "source": [
    "## Submission\n",
    "\n",
    "Make sure you have run all cells in your notebook in order before running the cell below, so that all images/graphs appear in the output. The cell below will generate a zip file for you to submit. **Please save before exporting!**"
   ]
  },
  {
   "cell_type": "code",
   "execution_count": 48,
   "metadata": {
    "deletable": false,
    "editable": false
   },
   "outputs": [
    {
     "data": {
      "text/html": [
       "\n",
       "                    <p>\n",
       "                        Your submission has been exported. Click\n",
       "                        <a href=\"HW5_2025_06_12T13_01_57_854598.zip\" download=\"HW5_2025_06_12T13_01_57_854598.zip\" target=\"_blank\">here</a> to download\n",
       "                        the zip file.\n",
       "                    </p>\n",
       "                "
      ],
      "text/plain": [
       "<IPython.core.display.HTML object>"
      ]
     },
     "metadata": {},
     "output_type": "display_data"
    }
   ],
   "source": [
    "# Save your notebook first, then run this cell to export your submission.\n",
    "grader.export(pdf=False)"
   ]
  },
  {
   "cell_type": "markdown",
   "metadata": {},
   "source": [
    " "
   ]
  }
 ],
 "metadata": {
  "kernelspec": {
   "display_name": ".venv",
   "language": "python",
   "name": "python3"
  },
  "language_info": {
   "codemirror_mode": {
    "name": "ipython",
    "version": 3
   },
   "file_extension": ".py",
   "mimetype": "text/x-python",
   "name": "python",
   "nbconvert_exporter": "python",
   "pygments_lexer": "ipython3",
   "version": "3.13.2"
  },
  "otter": {
   "OK_FORMAT": true,
   "assignment_name": "hw05,",
   "tests": {
    "q1": {
     "name": "q1",
     "points": null,
     "suites": [
      {
       "cases": [
        {
         "code": ">>> def test_verify_invariant_true():\n...     ts = TransitionSystem(states={'s0', 's1'}, actions={'a'}, transitions={('s0', 'a', 's1')}, initial_states={'s0'}, atomic_props={'p'}, labeling_map={'s0': {'p'}, 's1': {'p'}})\n...     assert ts.verify_invariant('p')\n>>> def test_verify_invariant_false():\n...     ts = TransitionSystem(states={'s0', 's1'}, actions={'a'}, transitions={('s0', 'a', 's1')}, initial_states={'s0'}, atomic_props={'p'}, labeling_map={'s0': {'p'}, 's1': set()})\n...     assert not ts.verify_invariant('p')\n>>> def test_verify_persistence_true():\n...     ts = TransitionSystem(states={'s0', 's1'}, actions={'a'}, transitions={('s0', 'a', 's1'), ('s1', 'a', 's1')}, initial_states={'s0'}, atomic_props={'p'}, labeling_map={'s0': set(), 's1': {'p'}})\n...     assert ts.verify_persistence('p')\n>>> def test_verify_persistence_false():\n...     ts = TransitionSystem(states={'s0', 's1'}, actions={'a'}, transitions={('s0', 'a', 's1'), ('s1', 'a', 's0'), ('s1', 'a', 's1')}, initial_states={'s0'}, atomic_props={'p'}, labeling_map={'s0': set(), 's1': {'p'}})\n...     assert not ts.verify_persistence('p')\n>>> def test_verify_safety_violation():\n...     ts = TransitionSystem(states={'s0', 's1'}, actions={'a'}, transitions={('s0', 'a', 's1'), ('s0', 'a', 's0'), ('s1', 'a', 's1')}, initial_states={'s0'}, atomic_props={'bad'}, labeling_map={'s0': {'good'}, 's1': {'bad'}})\n...     a = FiniteAutomaton(states={'q0', 'q1'}, alphabet={'bad'}, transitions={('q0', 'good', 'q0'), ('q0', 'bad', 'q1')}, initial_states={'q0'}, accepting_states={'q1'})\n...     assert not ts.verify_safety(a)\n>>> def test_verify_safety_ok():\n...     ts = TransitionSystem(states={'s0', 's1'}, actions={'a'}, transitions={('s0', 'a', 's1')}, initial_states={'s0'}, atomic_props={'p'}, labeling_map={'s0': {'p'}, 's1': {'p'}})\n...     a = FiniteAutomaton(states={'q0', 'q1'}, alphabet={'bad'}, transitions={('q0', 'p', 'q0'), ('q0', 'bad', 'q1')}, initial_states={'q0'}, accepting_states={'q1'})\n...     assert ts.verify_safety(a)\n>>> def test_ts1():\n...     ts = TransitionSystem({'s0'}, {'a'}, {('s0', 'a', 's0')}, {'s0'}, {'p'}, {'s0': {'p'}})\n...     assert ts.verify_invariant('p') == True\n...     assert ts.verify_persistence('p') == True\n>>> def test_ts2():\n...     ts = TransitionSystem()\n...     ts.add_atomic_proposition('p')\n...     ts.add_state('s0', 's1', 's2')\n...     ts.add_initial_state('s0')\n...     ts.add_action('a')\n...     ts.add_transition(('s0', 'a', 's1'))\n...     ts.add_transition(('s1', 'a', 's2'))\n...     ts.add_transition(('s2', 'a', 's2'))\n...     ts.add_label('s2', 'p')\n...     assert ts.verify_invariant('p') == False\n...     assert ts.verify_persistence('p') == True\n>>> def test_ts3():\n...     ts = TransitionSystem()\n...     ts.add_atomic_proposition('p')\n...     ts.add_state('s0', 's1')\n...     ts.add_initial_state('s0')\n...     ts.add_action('a')\n...     ts.add_transition(('s0', 'a', 's1'))\n...     ts.add_transition(('s1', 'a', 's0'))\n...     ts.add_label('s0', 'p')\n...     assert ts.verify_invariant('p') == False\n...     assert ts.verify_persistence('p') == False\n>>> def test_ts4():\n...     ts = TransitionSystem(states={'s0', 's1', 's2', 's3', 's4'}, actions={'a'}, transitions={('s0', 'a', 's1'), ('s1', 'a', 's2'), ('s1', 'a', 's3'), ('s2', 'a', 's2'), ('s3', 'a', 's4'), ('s4', 'a', 's4')}, initial_states={'s0'}, atomic_props={'p', 'q'}, labeling_map={'s0': set(), 's1': {'p'}, 's2': {'p'}, 's3': set(), 's4': {'p'}})\n...     assert ts.verify_invariant('p') == False\n...     assert ts.verify_persistence('p') == True\n>>> def test_safety():\n...     a = FiniteAutomaton(states={'q0', 'q1', 'q2', 'q3'}, alphabet={'not(b and not c)', 'b and not c', 'a', '(b and not c) and not a', 'not(b and not c) and not a', 'not(a or b) and not c', '(a or b) and not c', 'c'}, transitions={('q0', 'not(b and not c)', 'q0'), ('q0', 'b and not c', 'q1'), ('q1', 'a', 'q2'), ('q1', '(b and not c) and not a', '1'), ('q1', 'not(b and not c) and not a', 'q0'), ('q2', '(a or b) and not c', 'q3'), ('q2', 'not(a or b) and not c', 'q2'), ('q2', 'c', 'q0')}, initial_states={'q0'}, accepting_states={'q3'})\n...     ts = TransitionSystem(states={'s0', 's1', 's2', 's3', 's4', 's5'}, actions={'alpha', 'beta', 'gamma'}, transitions={('s0', 'beta', 's1'), ('s0', 'alpha', 's3'), ('s1', 'alpha', 's4'), ('s2', 'gamma', 's1'), ('s3', 'gamma', 's1'), ('s4', 'gamma', 's1'), ('s4', 'beta', 's5'), ('s5', 'beta', 's1'), ('s5', 'alpha', 's2')}, initial_states={'s0'}, atomic_props={'a', 'b', 'c'}, labeling_map={'s0': {'a', 'b'}, 's1': {'a', 'b', 'c'}, 's2': {'b', 'c'}, 's3': {'a', 'c'}, 's4': {'a', 'c'}, 's5': {'a', 'c'}})\n...     ts2 = TransitionSystem(states={'s0', 's1'}, actions={'alpha'}, transitions={('s0', 'alpha', 's1'), ('s1', 'alpha', 's1')}, initial_states={'s0'}, atomic_props={'a', 'b', 'c'}, labeling_map={'s0': {'b'}, 's1': {'a'}})\n...     assert ts.verify_safety(a) == True\n...     assert ts2.verify_safety(a) == False\n>>> def test_liveness():\n...     a = FiniteAutomaton(states={'p', 'q'}, alphabet={'a'}, transitions={('p', 'a', 'q'), ('p', 'not a', 'p'), ('q', 'a', 'q'), ('q', 'not a', 'p')}, initial_states={'p'}, accepting_states={'q'})\n...     ts = TransitionSystem(states={'s0', 's1', 's2', 's3', 's4'}, actions={'alpha', 'beta'}, transitions={('s0', 'alpha', 's1'), ('s1', 'alpha', 's3'), ('s1', 'beta', 's4'), ('s2', 'alpha', 's1'), ('s3', 'alpha', 's2'), ('s4', 'beta', 's3'), ('s4', 'beta', 's4'), ('s4', 'alpha', 's1')}, initial_states={'s0'}, atomic_props={'a', 'b', 'c'}, labeling_map={'s0': {'a'}, 's1': {'a', 'b'}, 's2': {'b'}, 's3': {'a'}, 's4': {'a', 'b'}})\n...     ts2 = TransitionSystem(states={'s0', 's1', 's2', 's3', 's4'}, actions={'alpha', 'beta'}, transitions={('s0', 'alpha', 's1'), ('s1', 'alpha', 's3'), ('s1', 'beta', 's4'), ('s2', 'alpha', 's1'), ('s3', 'alpha', 's2'), ('s4', 'beta', 's3'), ('s4', 'beta', 's4'), ('s4', 'alpha', 's1')}, initial_states={'s0'}, atomic_props={'a', 'b', 'c'}, labeling_map={'s0': {'a'}, 's1': {'c', 'b'}, 's2': {'b'}, 's3': {'b'}, 's4': {'c', 'b'}})\n...     assert ts.verify_liveness(a) == False\n...     assert ts2.verify_liveness(a) == True\n>>> test_verify_invariant_true()\n>>> test_verify_invariant_false()\n>>> test_verify_persistence_true()\n>>> test_verify_persistence_false()\n>>> test_verify_safety_violation()\n>>> test_verify_safety_ok()\n>>> test_ts1()\n>>> test_ts2()\n>>> test_ts3()\n>>> test_ts4()\n>>> test_safety()\n>>> test_liveness()\n",
         "hidden": false,
         "locked": false
        }
       ],
       "scored": true,
       "setup": "",
       "teardown": "",
       "type": "doctest"
      }
     ]
    }
   }
  }
 },
 "nbformat": 4,
 "nbformat_minor": 0
}
